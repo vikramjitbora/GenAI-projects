{
 "cells": [
  {
   "cell_type": "markdown",
   "id": "c22eea5d-d8e8-4d3b-823a-3e78f792f743",
   "metadata": {},
   "source": [
    "# Brochure for a company based on their Webpage"
   ]
  },
  {
   "cell_type": "markdown",
   "id": "4c09addf-6cf7-461e-8435-0a28b536b6a2",
   "metadata": {},
   "source": [
    "This notebook will build a brochure for a company based on their name and their home page. "
   ]
  },
  {
   "cell_type": "markdown",
   "id": "544bf371-3bdd-40bf-8f6d-093e5ea48da6",
   "metadata": {},
   "source": [
    "## Initial Setup"
   ]
  },
  {
   "cell_type": "code",
   "execution_count": 2,
   "id": "f49c817c-1dc5-4d23-8af0-56c6f9b5fa34",
   "metadata": {},
   "outputs": [],
   "source": [
    "import os\n",
    "import requests\n",
    "import json\n",
    "from typing import List\n",
    "from dotenv import load_dotenv\n",
    "from bs4 import BeautifulSoup\n",
    "from IPython.display import Markdown, display, update_display\n",
    "from openai import OpenAI\n"
   ]
  },
  {
   "cell_type": "code",
   "execution_count": 3,
   "id": "59f50af2-36bd-4eef-855a-780acd0f6c0b",
   "metadata": {},
   "outputs": [
    {
     "name": "stdout",
     "output_type": "stream",
     "text": [
      "API key looks good\n"
     ]
    }
   ],
   "source": [
    "load_dotenv(override=True)\n",
    "\n",
    "api_key = os.getenv('OPENAI_API_KEY')\n",
    "\n",
    "if api_key and api_key.startswith('sk-proj-') and len(api_key)>10:\n",
    "    print('API key looks good')\n",
    "else:\n",
    "    print('Incorrect API key')\n",
    "    \n"
   ]
  },
  {
   "cell_type": "code",
   "execution_count": 4,
   "id": "1a54e4d9-725a-477b-b141-003676cfaf72",
   "metadata": {},
   "outputs": [],
   "source": [
    "MODEL = 'gpt-4o-mini'\n",
    "openai = OpenAI()"
   ]
  },
  {
   "cell_type": "code",
   "execution_count": 5,
   "id": "37cf5afd-6b34-4dd9-8866-127d1feb5f4a",
   "metadata": {},
   "outputs": [],
   "source": [
    "\n",
    "headers = {\n",
    " \"User-Agent\": \"Mozilla/5.0 (Windows NT 10.0; Win64; x64) AppleWebKit/537.36 (KHTML, like Gecko) Chrome/117.0.0.0 Safari/537.36\"\n",
    "}\n",
    "\n",
    "class Website:\n",
    "    \"\"\"\n",
    "    A utility class to represent a Website that we have scraped with links\n",
    "    \"\"\"\n",
    "\n",
    "    def __init__(self, url):\n",
    "        self.url = url\n",
    "        response = requests.get(url, headers=headers)\n",
    "        self.body = response.content\n",
    "        soup = BeautifulSoup(self.body, 'html.parser')\n",
    "        self.title = soup.title.string if soup.title else \"No title found\"\n",
    "        if soup.body:\n",
    "            for irrelevant in soup.body([\"script\", \"style\", \"img\", \"input\"]):\n",
    "                irrelevant.decompose()\n",
    "            self.text = soup.body.get_text(separator=\"\\n\", strip=True)\n",
    "        else:\n",
    "            self.text = \"\"\n",
    "        links = [link.get('href') for link in soup.find_all('a')]\n",
    "        self.links = [link for link in links if link]\n",
    "\n",
    "    def get_contents(self):\n",
    "        return f\"Webpage Title:\\n{self.title}\\nWebpage Contents:\\n{self.text}\\n\\n\""
   ]
  },
  {
   "cell_type": "markdown",
   "id": "003129de-be33-4719-8d0c-a5be60162911",
   "metadata": {},
   "source": [
    "## Use GPT-4o-mini to figure out which links are relevant\n",
    "\n",
    "Use a call to gpt-4o-mini to read the links on a webpage, and respond in structured JSON. \n",
    "It will decide which links are relevant, and replace relative links such as \"/about\" with the full url. "
   ]
  },
  {
   "cell_type": "code",
   "execution_count": 6,
   "id": "b4be8a9d-d62c-472e-b5b3-0cb09ef786a7",
   "metadata": {},
   "outputs": [],
   "source": [
    "# System prompt for the gpt call to get relevant links\n",
    "\n",
    "link_system_prompt = \"You are provided with a list of links found on a webpage. \\\n",
    "You are able to decide which of the links would be most relevant to include in a brochure about the company, \\\n",
    "such as links to an About page, or a Company page, or Careers/Jobs pages.\\n\"\n",
    "link_system_prompt += \"You should respond in JSON as in this example:\"\n",
    "link_system_prompt += \"\"\"\n",
    "{\n",
    "    \"links\": [\n",
    "        {\"type\": \"about page\", \"url\": \"full url\"},\n",
    "        {\"type\": \"careers page\": \"url\": \"another full url\"}\n",
    "    ]\n",
    "}\n",
    "\"\"\""
   ]
  },
  {
   "cell_type": "code",
   "execution_count": 7,
   "id": "4146ff46-7e9d-4882-82c9-e18648c392dc",
   "metadata": {},
   "outputs": [],
   "source": [
    "# Function to get user prompt \n",
    "\n",
    "def get_links_user_prompt(website):\n",
    "    user_prompt = f\"Here is the list of links on the website of {website.url} - \"\n",
    "    user_prompt += \"please decide which of these are relevant web links for a brochure about the company, respond with the full https URL in JSON format. \\\n",
    "Do not include Terms of Service, Privacy, email links.\\n\"\n",
    "    user_prompt += \"Links (some might be relative links):\\n\"\n",
    "    user_prompt += \"\\n\".join(website.links)\n",
    "    return user_prompt"
   ]
  },
  {
   "cell_type": "code",
   "execution_count": 9,
   "id": "dfcee099-497e-43a2-a7ff-14ab65fe31db",
   "metadata": {},
   "outputs": [],
   "source": [
    "def get_links(url):\n",
    "    website = Website(url)\n",
    "    response = openai.chat.completions.create(\n",
    "        model=MODEL,\n",
    "        messages=[\n",
    "            {\"role\": \"system\", \"content\": link_system_prompt},\n",
    "            {\"role\": \"user\", \"content\": get_links_user_prompt(website)}\n",
    "      ],\n",
    "        response_format={\"type\": \"json_object\"}\n",
    "    )\n",
    "    result = response.choices[0].message.content\n",
    "    return json.loads(result)"
   ]
  },
  {
   "cell_type": "markdown",
   "id": "7f716be3-9b5f-43ea-9fb6-ee1a0efd160e",
   "metadata": {},
   "source": [
    "## Make the brochure"
   ]
  },
  {
   "cell_type": "code",
   "execution_count": 24,
   "id": "c9b58562-8461-4038-966c-20068e842235",
   "metadata": {},
   "outputs": [],
   "source": [
    "def get_all_details(url):\n",
    "    result = \"Landing page:\\n\"\n",
    "    result += Website(url).get_contents()\n",
    "    links = get_links(url)\n",
    "    for link in links[\"links\"]:\n",
    "        result += f\"\\n\\n{link['type']}\\n\"\n",
    "        result += Website(link[\"url\"]).get_contents()\n",
    "    return result"
   ]
  },
  {
   "cell_type": "code",
   "execution_count": 18,
   "id": "14a5b5f1-b71c-4d45-ab1e-2cab5b3bf612",
   "metadata": {},
   "outputs": [],
   "source": [
    "# System prompt for generating brochure\n",
    "\n",
    "system_prompt = \"You are an assistant that analyzes the contents of several relevant pages from a company website \\\n",
    "and creates a short brochure about the company for prospective customers, investors and recruits. Respond in markdown.\\\n",
    "Include details of company culture, customers and careers/jobs if you have the information.\""
   ]
  },
  {
   "cell_type": "code",
   "execution_count": 19,
   "id": "ec9c1aa3-7542-4f93-8616-471b3498a7f1",
   "metadata": {},
   "outputs": [],
   "source": [
    "# Function to get user prompt\n",
    "\n",
    "def get_brochure_user_prompt(company_name, url):\n",
    "    user_prompt = f\"You are looking at a company called: {company_name}\\n\"\n",
    "    user_prompt += f\"Here are the contents of its landing page and other relevant pages; use this information to build a short brochure of the company in markdown.\\n\"\n",
    "    user_prompt += get_all_details(url)\n",
    "    user_prompt = user_prompt[:5_000] # Truncate if more than 5,000 characters\n",
    "    return user_prompt"
   ]
  },
  {
   "cell_type": "code",
   "execution_count": 22,
   "id": "26eba155-2a94-4ddc-9fe9-bbdae334f26e",
   "metadata": {},
   "outputs": [],
   "source": [
    "def create_brochure(company_name, url):\n",
    "    response = openai.chat.completions.create(\n",
    "        model=MODEL,\n",
    "        messages=[\n",
    "            {\"role\": \"system\", \"content\": system_prompt},\n",
    "            {\"role\": \"user\", \"content\": get_brochure_user_prompt(company_name, url)}\n",
    "          ],\n",
    "    )\n",
    "    result = response.choices[0].message.content\n",
    "    display(Markdown(result))"
   ]
  },
  {
   "cell_type": "code",
   "execution_count": 25,
   "id": "8fd7a949-30a8-44f0-ae12-84b96388ea84",
   "metadata": {},
   "outputs": [
    {
     "data": {
      "text/markdown": [
       "# Hugging Face Brochure\n",
       "\n",
       "## Welcome to Hugging Face: The AI Community Building the Future\n",
       "\n",
       "At **Hugging Face**, we are dedicated to creating a collaborative platform for the machine learning community. Our mission is to accelerate innovation by providing tools, models, and resources that empower developers, researchers, and organizations to create groundbreaking AI applications.\n",
       "\n",
       "---\n",
       "\n",
       "### What We Offer\n",
       "\n",
       "- **Models**: Access over **400,000** cutting-edge machine learning models, ranging from natural language processing to computer vision.\n",
       "- **Datasets**: Discover and share **100,000+ datasets** curated for various ML tasks to support your projects.\n",
       "- **Spaces**: Explore **150,000+ applications** to find solutions that inspire and demonstrate the power of machine learning.\n",
       "  \n",
       "#### Unique Features:\n",
       "\n",
       "- **Open Source Collaboration**: Leverage our open-source tools like Transformers and Diffusers to build sophisticated ML models with community support.\n",
       "- **Compute Solutions**: Deploy optimized inference endpoints and exclusive enterprise solutions to accelerate ML workflows.\n",
       "\n",
       "---\n",
       "\n",
       "### Our Culture\n",
       "\n",
       "At Hugging Face, we believe in fostering a culture of inclusivity, innovation, and collaboration. We encourage our team members to challenge the status quo and share their insights. Our open-source ethos ensures that everyone has a voice, and we value contributions from diverse backgrounds and experiences.\n",
       "\n",
       "---\n",
       "\n",
       "### Who We Serve\n",
       "\n",
       "Hugging Face is proud to support **over 50,000 organizations**, including industry giants like:\n",
       "\n",
       "- **Amazon Web Services**\n",
       "- **Google**\n",
       "- **Microsoft**\n",
       "- **Intel**\n",
       "- **Meta**\n",
       "\n",
       "Our platform serves a diverse user base, from individual developers and researchers to large enterprises seeking enterprise-grade solutions.\n",
       "\n",
       "---\n",
       "\n",
       "### Careers at Hugging Face\n",
       "\n",
       "Join us on our journey to build the future of AI! We are always on the lookout for talented individuals who are passionate about machine learning and technology. At Hugging Face, you'll have the opportunity to work on cutting-edge AI projects and collaborate with some of the brightest minds in the field.\n",
       "\n",
       "If you are interested in being part of a forward-thinking team, check our [Careers Page](#) for current job openings.\n",
       "\n",
       "---\n",
       "\n",
       "### Join the AI Revolution\n",
       "\n",
       "Whether you're an investor, a potential recruit, or a customer wanting to explore ML solutions, Hugging Face welcomes you. Join our vibrant community and help shape the future of artificial intelligence!\n",
       "\n",
       "**Get Started: [Sign Up Here](#)**\n",
       "\n",
       "---\n",
       "\n",
       "For more information, visit our website or connect with us on social media:\n",
       "\n",
       "- [GitHub](#)\n",
       "- [Twitter](#)\n",
       "- [LinkedIn](#)\n",
       "- [Discord](#)\n",
       "\n",
       "**Hugging Face**: The AI community building the future. Together, we can make a difference!"
      ],
      "text/plain": [
       "<IPython.core.display.Markdown object>"
      ]
     },
     "metadata": {},
     "output_type": "display_data"
    }
   ],
   "source": [
    "create_brochure(\"HuggingFace\", \"https://huggingface.co\")"
   ]
  },
  {
   "cell_type": "code",
   "execution_count": 26,
   "id": "bab0a2f1-865f-4f3b-8b16-aa33aeb91e29",
   "metadata": {},
   "outputs": [],
   "source": [
    "def stream_brochure(company_name, url):\n",
    "    stream = openai.chat.completions.create(\n",
    "        model=MODEL,\n",
    "        messages=[\n",
    "            {\"role\": \"system\", \"content\": system_prompt},\n",
    "            {\"role\": \"user\", \"content\": get_brochure_user_prompt(company_name, url)}\n",
    "          ],\n",
    "        stream=True\n",
    "    )\n",
    "    \n",
    "    response = \"\"\n",
    "    display_handle = display(Markdown(\"\"), display_id=True)\n",
    "    for chunk in stream:\n",
    "        response += chunk.choices[0].delta.content or ''\n",
    "        response = response.replace(\"```\",\"\").replace(\"markdown\", \"\")\n",
    "        update_display(Markdown(response), display_id=display_handle.display_id)"
   ]
  },
  {
   "cell_type": "code",
   "execution_count": 27,
   "id": "63b147c9-73b0-4f1d-9dd4-62210fdd8506",
   "metadata": {},
   "outputs": [
    {
     "data": {
      "text/markdown": [
       "\n",
       "# Hugging Face Brochure\n",
       "\n",
       "## Welcome to Hugging Face\n",
       "\n",
       "### The AI Community Building the Future\n",
       "\n",
       "At Hugging Face, we are redefining the landscape of Artificial Intelligence. Our platform serves as a collaborative hub for machine learning enthusiasts, researchers, and professionals to engage with state-of-the-art models, datasets, and applications.\n",
       "\n",
       "---\n",
       "\n",
       "### What We Offer\n",
       "\n",
       "- **Models**: Explore and utilize over **400,000 models** ranging from NLP to computer vision and 3D generation.\n",
       "- **Datasets**: Access and share **100,000+ datasets** designed for various ML tasks.\n",
       "- **Spaces**: An interactive platform for showcasing AI demos and applications.\n",
       "- **Enterprise Solutions**: Customizable offerings with advanced security features for organizations integrating AI into their operations.\n",
       "\n",
       "---\n",
       "\n",
       "### Our Customers\n",
       "\n",
       "Hugging Face is a trusted partner to over **50,000 organizations**, including leading names like:\n",
       "\n",
       "- **Amazon Web Services**\n",
       "- **Google**\n",
       "- **Microsoft**\n",
       "- **Meta AI**\n",
       "- **Intel**\n",
       "\n",
       "We offer tailored solutions that support enterprises in leveraging AI for their specific needs.\n",
       "\n",
       "---\n",
       "\n",
       "### Company Culture\n",
       "\n",
       "- **Community-Driven**: We prioritize collaboration and open-source principles. Our mission is to democratize AI.\n",
       "- **Innovative Environment**: We're dedicated to continuous learning and pushing the boundaries of what's possible with AI technology. \n",
       "- **Diverse Workforce**: We value different perspectives and experiences, which helps us foster creativity and innovation in our projects.\n",
       "\n",
       "---\n",
       "\n",
       "### Careers at Hugging Face\n",
       "\n",
       "Join a team that is shaping the future of AI! We offer:\n",
       "\n",
       "- *Career Development*: Opportunities to grow and lead within the community.\n",
       "- *Flexible Work Environment*: Embrace a healthy work-life balance.\n",
       "- *Impactful Work*: Contribute to projects that have the potential to change industries and improve lives.\n",
       "\n",
       "### Open Positions\n",
       "\n",
       "We are always on the lookout for passionate individuals in the following areas:\n",
       "\n",
       "- Machine Learning Engineering\n",
       "- Data Science\n",
       "- Software Development\n",
       "- Community Management\n",
       "\n",
       "Explore our [Jobs Page](https://huggingface.co/jobs) for current openings!\n",
       "\n",
       "---\n",
       "\n",
       "### Connect With Us\n",
       "\n",
       "Join our thriving community on:\n",
       "\n",
       "- [GitHub](https://github.com/huggingface)\n",
       "- [Twitter](https://twitter.com/huggingface)\n",
       "- [LinkedIn](https://www.linkedin.com/company/huggingface)\n",
       "- [Discord](https://discord.com/invite/huggingface)\n",
       "\n",
       "---\n",
       "\n",
       "### Join Us\n",
       "\n",
       "Experience the future of AI and become a part of the Hugging Face community! \n",
       "\n",
       "### Contact Us\n",
       "\n",
       "For inquiries about our services or partnerships, please visit our [Contact Page](https://huggingface.co/contact).\n",
       "\n",
       "---\n",
       "\n",
       "**Hugging Face** - Building a future where AI is accessible to all.\n",
       "\n",
       "\n",
       "Feel free to adjust any sections or add additional details as needed!"
      ],
      "text/plain": [
       "<IPython.core.display.Markdown object>"
      ]
     },
     "metadata": {},
     "output_type": "display_data"
    }
   ],
   "source": [
    "stream_brochure(\"HuggingFace\", \"https://huggingface.co\")"
   ]
  },
  {
   "cell_type": "code",
   "execution_count": null,
   "id": "47e63e18-e146-4247-ae9d-a0d3a25293aa",
   "metadata": {},
   "outputs": [],
   "source": []
  }
 ],
 "metadata": {
  "kernelspec": {
   "display_name": "Python 3 (ipykernel)",
   "language": "python",
   "name": "python3"
  },
  "language_info": {
   "codemirror_mode": {
    "name": "ipython",
    "version": 3
   },
   "file_extension": ".py",
   "mimetype": "text/x-python",
   "name": "python",
   "nbconvert_exporter": "python",
   "pygments_lexer": "ipython3",
   "version": "3.11.11"
  }
 },
 "nbformat": 4,
 "nbformat_minor": 5
}
